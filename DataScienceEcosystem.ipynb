{
 "cells": [
  {
   "cell_type": "markdown",
   "id": "189fea41-0c15-422d-bea8-cbe58f65e7da",
   "metadata": {},
   "source": [
    "<h1>Data Science Tools and Ecosystem</h1>"
   ]
  },
  {
   "cell_type": "markdown",
   "id": "bbfeddbf-464f-4634-9343-daca8659c068",
   "metadata": {},
   "source": [
    "This notebooks summarizes data science tools and the data science ecosystem."
   ]
  },
  {
   "cell_type": "markdown",
   "id": "31d3edd1-c8e8-4325-9566-7effae79d189",
   "metadata": {},
   "source": [
    "**Objectives:**\n",
    "- Common Data Science languages\n",
    "- Common Data Science libraries\n",
    "- Common Data Science tools\n",
    "- Python arithmetic expressions"
   ]
  },
  {
   "cell_type": "markdown",
   "id": "25e27aa5-a501-4a65-9726-e3e45822899d",
   "metadata": {},
   "source": [
    "The key programming languages used by Data Scientists are:\n",
    "1. Python\n",
    "2. R\n",
    "3. SQL"
   ]
  },
  {
   "cell_type": "markdown",
   "id": "a7ce37e0-c4fa-44ea-8b3e-05aeb4f8b35c",
   "metadata": {},
   "source": [
    "Import libraries used by Data Scientists include:\n",
    "1. Pandas\n",
    "2. Numpy\n",
    "3. Matplotlib\n",
    "4. Scikit-learn\n",
    "5. Tensorflow"
   ]
  },
  {
   "cell_type": "markdown",
   "id": "59f24797-ff6a-4e70-a08e-317c0137a89b",
   "metadata": {},
   "source": [
    "|Data Science Tools|\n",
    "|-|\n",
    "|Jupyter Notebooks|\n",
    "|Anaconda|\n",
    "|R Studio|\n",
    "|Postgresql|"
   ]
  },
  {
   "cell_type": "markdown",
   "id": "50255957-48c8-4fdb-90ef-f437b62e0834",
   "metadata": {},
   "source": [
    "<h3>Here are a few examples of arithmetic expressions in Python:</h3>"
   ]
  },
  {
   "cell_type": "code",
   "execution_count": 1,
   "id": "c7a7a729-2810-4731-ba96-09c7b70266f3",
   "metadata": {
    "tags": []
   },
   "outputs": [
    {
     "data": {
      "text/plain": [
       "17"
      ]
     },
     "execution_count": 1,
     "metadata": {},
     "output_type": "execute_result"
    }
   ],
   "source": [
    "# This is an expression using parethesis to control the order of operations\n",
    "(3 * 4) + 5"
   ]
  },
  {
   "cell_type": "code",
   "execution_count": 2,
   "id": "a6483278-b736-468f-b71b-010fb7ff10a1",
   "metadata": {
    "tags": []
   },
   "outputs": [
    {
     "data": {
      "text/plain": [
       "3.3333333333333335"
      ]
     },
     "execution_count": 2,
     "metadata": {},
     "output_type": "execute_result"
    }
   ],
   "source": [
    "# This expression will convert 200 minutes into hours\n",
    "200 / 60"
   ]
  },
  {
   "cell_type": "markdown",
   "id": "3d67233b-1cf6-40bc-972b-1f1a8b9f22c1",
   "metadata": {},
   "source": [
    "<h2>Author</h2>\n",
    "Steven Colton Crowther"
   ]
  },
  {
   "cell_type": "code",
   "execution_count": null,
   "id": "256f3dc7-0ed8-4584-817f-e3c298dd9fa9",
   "metadata": {},
   "outputs": [],
   "source": []
  }
 ],
 "metadata": {
  "kernelspec": {
   "display_name": "Python",
   "language": "python",
   "name": "conda-env-python-py"
  },
  "language_info": {
   "codemirror_mode": {
    "name": "ipython",
    "version": 3
   },
   "file_extension": ".py",
   "mimetype": "text/x-python",
   "name": "python",
   "nbconvert_exporter": "python",
   "pygments_lexer": "ipython3",
   "version": "3.7.12"
  }
 },
 "nbformat": 4,
 "nbformat_minor": 5
}
